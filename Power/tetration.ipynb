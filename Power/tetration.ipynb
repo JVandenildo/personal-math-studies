{
 "cells": [
  {
   "cell_type": "markdown",
   "metadata": {},
   "source": [
    "Tetration is an operation based on iterated, or repeated, exponentiation.<br>\n",
    "A common notation for this operation is <sup>`a`</sup>`b`, where `a` is called \"height\" and `b` is \"base\". For example, <sup>`3`</sup>`3` is `19683`."
   ]
  },
  {
   "cell_type": "code",
   "execution_count": 2,
   "metadata": {},
   "outputs": [
    {
     "name": "stdout",
     "output_type": "stream",
     "text": [
      "5 by 4 is 95367431640625.\n"
     ]
    }
   ],
   "source": [
    "def GetPower(base, exponent):\n",
    "    if exponent == 0:\n",
    "        return 1\n",
    "    else:\n",
    "        return base * GetPower(base, exponent - 1)\n",
    "    \n",
    "def GetTetration(base, height):\n",
    "    n = 1\n",
    "\n",
    "    while height > 0:\n",
    "        n = n * GetPower(base, exponent=base)\n",
    "\n",
    "        height = height - 1\n",
    "\n",
    "    return n\n",
    "\n",
    "base = int(input(\"Base: \"))\n",
    "height = int(input(\"Height: \"))\n",
    "\n",
    "print(f'{base} by {height} is {GetTetration(base, height)}.')"
   ]
  }
 ],
 "metadata": {
  "kernelspec": {
   "display_name": "Python 3",
   "language": "python",
   "name": "python3"
  },
  "language_info": {
   "codemirror_mode": {
    "name": "ipython",
    "version": 3
   },
   "file_extension": ".py",
   "mimetype": "text/x-python",
   "name": "python",
   "nbconvert_exporter": "python",
   "pygments_lexer": "ipython3",
   "version": "3.11.3"
  }
 },
 "nbformat": 4,
 "nbformat_minor": 2
}
