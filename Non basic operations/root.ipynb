{
 "cells": [
  {
   "cell_type": "code",
   "execution_count": 1,
   "metadata": {},
   "outputs": [],
   "source": [
    "def root(base, b):\n",
    "    r = 1\n",
    "\n",
    "    while r <= base / 2:\n",
    "        p = r\n",
    "        count = 1\n",
    "\n",
    "        while count <= b:\n",
    "            p = p * r\n",
    "            count += 1\n",
    "            if p == base and count == b:\n",
    "                answer = f\"{r}\"\n",
    "\n",
    "                return answer\n",
    "        r = r + 1\n",
    "\n",
    "    if p == base and count == b:\n",
    "        return f\"{r}\"\n",
    "    else:\n",
    "        return \"a non integer\""
   ]
  },
  {
   "cell_type": "code",
   "execution_count": 2,
   "metadata": {},
   "outputs": [
    {
     "name": "stdout",
     "output_type": "stream",
     "text": [
      "Root of 2 by 8 is a non integer.\n"
     ]
    }
   ],
   "source": [
    "base = int(input(\"Base number: \"))\n",
    "b = int(input(\"Root number: \"))\n",
    "\n",
    "# some combinations doesn't return the correct result; be aware\n",
    "# for testing, try these combinations: 25, 5; 8, 3; 1728, 3 (is 12)\n",
    "print(f\"Root of {base} by {b} is {root(base, b)}.\")"
   ]
  }
 ],
 "metadata": {
  "kernelspec": {
   "display_name": "Python 3",
   "language": "python",
   "name": "python3"
  },
  "language_info": {
   "codemirror_mode": {
    "name": "ipython",
    "version": 3
   },
   "file_extension": ".py",
   "mimetype": "text/x-python",
   "name": "python",
   "nbconvert_exporter": "python",
   "pygments_lexer": "ipython3",
   "version": "3.13.1"
  }
 },
 "nbformat": 4,
 "nbformat_minor": 2
}
