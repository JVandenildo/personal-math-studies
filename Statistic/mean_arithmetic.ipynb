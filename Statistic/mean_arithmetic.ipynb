{
 "cells": [
  {
   "cell_type": "code",
   "execution_count": 1,
   "metadata": {},
   "outputs": [],
   "source": [
    "def meanOfLst(array: list) -> float:\n",
    "    sum = 0\n",
    "    for i in array:\n",
    "        sum = sum + i\n",
    "\n",
    "    return round(sum / len(array), 2)"
   ]
  },
  {
   "cell_type": "code",
   "execution_count": 2,
   "metadata": {},
   "outputs": [
    {
     "name": "stdout",
     "output_type": "stream",
     "text": [
      "List: [62, 15, 29, 58, 80, 86, 7]\n",
      "Length: 7.\n",
      "Numpy mean: 48.14.\n",
      "Mean: 48.14.\n"
     ]
    }
   ],
   "source": [
    "import random as rd\n",
    "import numpy as np\n",
    "\n",
    "lst = [rd.randint(1, 100) for x in range(rd.randint(5, 15))]\n",
    "print(f\"List: {lst}\\nLength: {len(lst)}.\")\n",
    "\n",
    "# result got by function\n",
    "print(f\"Mean: {meanOfLst(lst)}.\")\n",
    "# result got by numpy\n",
    "print(f\"Numpy mean: {round(np.mean(lst), 2)}.\")"
   ]
  }
 ],
 "metadata": {
  "kernelspec": {
   "display_name": "Python 3",
   "language": "python",
   "name": "python3"
  },
  "language_info": {
   "codemirror_mode": {
    "name": "ipython",
    "version": 3
   },
   "file_extension": ".py",
   "mimetype": "text/x-python",
   "name": "python",
   "nbconvert_exporter": "python",
   "pygments_lexer": "ipython3",
   "version": "3.13.1"
  }
 },
 "nbformat": 4,
 "nbformat_minor": 2
}
