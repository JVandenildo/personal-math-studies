{
 "cells": [
  {
   "cell_type": "markdown",
   "metadata": {},
   "source": [
    "Mode is the most repeating value in a set of data values."
   ]
  },
  {
   "cell_type": "code",
   "execution_count": 1,
   "metadata": {},
   "outputs": [],
   "source": [
    "def checkMode(array: list) -> bool:\n",
    "    \"\"\"\n",
    "    Verify if there's a mode.\n",
    "    \"\"\"\n",
    "    countI = 0\n",
    "\n",
    "    for i in array:\n",
    "        countJ = 0\n",
    "\n",
    "        for e in array:\n",
    "            if i == e:\n",
    "                countJ = countJ + 1\n",
    "                # array.remove(e)\n",
    "            if countI < countJ and countJ > 1:\n",
    "                countI = countJ\n",
    "\n",
    "    if countI == 0:\n",
    "        return False\n",
    "    else:\n",
    "        return True\n",
    "\n",
    "\n",
    "def modeOfLst(array: list) -> float:\n",
    "    \"\"\"\n",
    "    Return the mode's value.\n",
    "    \"\"\"\n",
    "    countI = 0\n",
    "    modeNumber = 0\n",
    "\n",
    "    for i in array:\n",
    "        countJ = 0\n",
    "\n",
    "        # print(i)\n",
    "        for e in array:\n",
    "            if i == e:\n",
    "                countJ = countJ + 1\n",
    "                # array.remove(e)\n",
    "            if countI < countJ and countJ > 1:\n",
    "                countI = countJ\n",
    "                modeNumber = e\n",
    "\n",
    "    return modeNumber"
   ]
  },
  {
   "cell_type": "code",
   "execution_count": 3,
   "metadata": {},
   "outputs": [
    {
     "name": "stdout",
     "output_type": "stream",
     "text": [
      "List: [28, 73, 75, 67, 23, 28, 53, 7, 88]\n",
      "Length: 9.\n",
      "Scipy mode: ModeResult(mode=np.int64(28), count=np.int64(2)).\n",
      "List: [28, 73, 75, 67, 23, 28, 53, 7, 88];\n",
      "Length: 9;\n",
      "Mean: 28.\n"
     ]
    }
   ],
   "source": [
    "import random as rd\n",
    "from scipy import stats\n",
    "\n",
    "lst = [rd.randint(1, 100) for x in range(rd.randint(5, 15))]\n",
    "print(f\"List: {lst}\\nLength: {len(lst)}.\")\n",
    "\n",
    "if checkMode(lst):\n",
    "    # result got by scipy method\n",
    "    print(f\"Scipy mode: {stats.mode(lst)}.\")\n",
    "\n",
    "    # result by function\n",
    "    print(f\"List: {lst};\\nLength: {len(lst)};\\nMean: {modeOfLst(lst)}.\")\n",
    "\n",
    "else:\n",
    "    # result got by scipy method\n",
    "    print(f\"Scipy mode: {stats.mode(lst)}.\")\n",
    "\n",
    "    # result by function\n",
    "    print(\"There's no mode.\")"
   ]
  }
 ],
 "metadata": {
  "kernelspec": {
   "display_name": "Python 3",
   "language": "python",
   "name": "python3"
  },
  "language_info": {
   "codemirror_mode": {
    "name": "ipython",
    "version": 3
   },
   "file_extension": ".py",
   "mimetype": "text/x-python",
   "name": "python",
   "nbconvert_exporter": "python",
   "pygments_lexer": "ipython3",
   "version": "3.13.1"
  }
 },
 "nbformat": 4,
 "nbformat_minor": 2
}
