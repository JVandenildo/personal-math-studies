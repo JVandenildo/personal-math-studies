{
 "cells": [
  {
   "cell_type": "markdown",
   "metadata": {},
   "source": [
    "The median is the value separating the higher half from the lower half.\n",
    "- In case the set of values is in odd quantity it is the exact mid value;\n",
    "- In case the set of values is in even quantity it is the mean between the two values in the middle."
   ]
  },
  {
   "cell_type": "code",
   "execution_count": 2,
   "metadata": {},
   "outputs": [],
   "source": [
    "def medianOfLst(array: list) -> float:\n",
    "    arrayCopy = array.copy()\n",
    "\n",
    "    if len(arrayCopy) % 2 == 0:  # array length is even\n",
    "        while len(arrayCopy) > 2:\n",
    "            arrayCopy.remove(max(arrayCopy))\n",
    "            arrayCopy.remove(min(arrayCopy))\n",
    "\n",
    "        return (arrayCopy[0] + arrayCopy[1]) / 2\n",
    "\n",
    "    else:  # array length is odd\n",
    "        while len(arrayCopy) > 1:\n",
    "            arrayCopy.remove(max(arrayCopy))\n",
    "            arrayCopy.remove(min(arrayCopy))\n",
    "\n",
    "    return arrayCopy[0]"
   ]
  },
  {
   "cell_type": "code",
   "execution_count": 3,
   "metadata": {},
   "outputs": [
    {
     "name": "stdout",
     "output_type": "stream",
     "text": [
      "List: [35, 21, 14, 32, 92, 92, 83, 68, 64, 79, 32, 41, 4, 5]\n",
      "Length: 14.\n",
      "Median: 38.0.\n",
      "Numpy median: 38.0.\n"
     ]
    }
   ],
   "source": [
    "import random as rd\n",
    "import numpy as np\n",
    "\n",
    "lst = [rd.randint(1, 100) for i in range(rd.randint(5, 20))]\n",
    "print(f\"List: {lst}\\nLength: {len(lst)}.\")\n",
    "\n",
    "# result by function\n",
    "print(f\"Median: {medianOfLst(lst)}.\")\n",
    "# result by numpy for comparison\n",
    "print(f\"Numpy median: {np.median(lst)}.\")"
   ]
  }
 ],
 "metadata": {
  "kernelspec": {
   "display_name": "Python 3",
   "language": "python",
   "name": "python3"
  },
  "language_info": {
   "codemirror_mode": {
    "name": "ipython",
    "version": 3
   },
   "file_extension": ".py",
   "mimetype": "text/x-python",
   "name": "python",
   "nbconvert_exporter": "python",
   "pygments_lexer": "ipython3",
   "version": "3.13.1"
  }
 },
 "nbformat": 4,
 "nbformat_minor": 2
}
